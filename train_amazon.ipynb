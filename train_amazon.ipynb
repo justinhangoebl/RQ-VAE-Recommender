{
 "cells": [
  {
   "cell_type": "code",
   "execution_count": 1,
   "id": "298f5b14",
   "metadata": {},
   "outputs": [],
   "source": [
    "import torch\n",
    "import wandb\n",
    "import torch.optim as optim\n",
    "from utils.wandb import wandb_init\n",
    "from train_rq_vae import train\n",
    "from omegaconf import OmegaConf\n",
    "from plotting.plot import plot_results_panels\n",
    "from data.loader import load_amazon\n",
    "from modules.rq_vae import RQ_VAE\n",
    "from utils.model_id_generation import generate_model_id"
   ]
  },
  {
   "cell_type": "code",
   "execution_count": null,
   "id": "1270ef99",
   "metadata": {},
   "outputs": [],
   "source": [
    "cfg = OmegaConf.load('config/config_amazon.yaml')\n",
    "device = torch.device(\"cuda\" if torch.cuda.is_available() else \"cpu\")\n",
    "#wandb_init(cfg)\n",
    "\n",
    "data = load_amazon(\n",
    "    category=cfg.data.category,\n",
    "    normalize_data=cfg.data.normalize_data,\n",
    "    train=True)\n",
    "print(data)\n",
    "model = RQ_VAE(\n",
    "        input_dim = data.shape[1],\n",
    "        latent_dim = cfg.model.latent_dimension,\n",
    "        hidden_dims = cfg.model.hidden_dimensions,\n",
    "        codebook_size = cfg.model.codebook_clusters,\n",
    "        codebook_kmeans_init = True,\n",
    "        codebook_sim_vq = True,\n",
    "        n_quantization_layers = cfg.model.num_codebook_layers,\n",
    "        commitment_weight = cfg.model.commitment_weight,\n",
    ")\n",
    "model.to(device)\n",
    "\n",
    "#wandb.watch(model)\n",
    "\n",
    "optimizer = optim.AdamW(model.parameters(), lr=cfg.train.learning_rate, weight_decay=cfg.train.weight_decay)"
   ]
  },
  {
   "cell_type": "code",
   "execution_count": null,
   "id": "dfa3639f",
   "metadata": {},
   "outputs": [],
   "source": [
    "losses = train(model, data, optimizer, cfg.train.num_epochs, device, cfg)\n",
    "\n",
    "if cfg.general.save_model:\n",
    "    model_id = generate_model_id(cfg)\n",
    "    print(f\"Model ID: {model_id}\")\n",
    "    torch.save(model.state_dict(), f\"models/{model_id}.pth\")\n",
    "    \n",
    "#model.load_state_dict(torch.load(\"models/amazon-beauty-bs256-normF-hd768_512_256-ld256-cb3x256-cw0.25-lr0.001-wd0.0001-ep200.pth\"))\n",
    "wandb.finish()"
   ]
  },
  {
   "cell_type": "code",
   "execution_count": null,
   "id": "9c9df303",
   "metadata": {},
   "outputs": [],
   "source": [
    "model.get_semantic_ids(data.to(device)).sem_ids"
   ]
  },
  {
   "cell_type": "code",
   "execution_count": null,
   "id": "c642ff35",
   "metadata": {},
   "outputs": [],
   "source": [
    "# Plot configuration\n",
    "plot_configs = [\n",
    "    ('Loss', 'Total Loss Over Epochs', 'blue', 'low'),\n",
    "    ('Reconstruction Loss', 'Reconstruction Loss Over Epochs', 'green', 'low'),\n",
    "    (\"RQ-VAE Loss\", 'RQ-VAE Loss Over Epochs', 'red', 'low'),\n",
    "    ('Prob Unique IDs', 'Prob Unique IDs Over Epochs', 'orange', 'high'),\n",
    "]\n",
    "\n",
    "model_id = generate_model_id(cfg)\n",
    "fig = plot_results_panels(losses, plot_configs)\n",
    "fig.savefig(f\"outputs/plots/{model_id}.png\", dpi=600, bbox_inches='tight')"
   ]
  }
 ],
 "metadata": {
  "kernelspec": {
   "display_name": ".venv",
   "language": "python",
   "name": "python3"
  },
  "language_info": {
   "codemirror_mode": {
    "name": "ipython",
    "version": 3
   },
   "file_extension": ".py",
   "mimetype": "text/x-python",
   "name": "python",
   "nbconvert_exporter": "python",
   "pygments_lexer": "ipython3",
   "version": "3.12.4"
  }
 },
 "nbformat": 4,
 "nbformat_minor": 5
}
