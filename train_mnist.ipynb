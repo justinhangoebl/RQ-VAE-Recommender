{
 "cells": [
  {
   "cell_type": "code",
   "execution_count": 1,
   "id": "98e73e01",
   "metadata": {},
   "outputs": [],
   "source": [
    "import torch\n",
    "import wandb\n",
    "import torch.optim as optim\n",
    "from utils.wandb import wandb_init\n",
    "from train_rq_vae import train\n",
    "from omegaconf import OmegaConf\n",
    "from data.loader import load_mnist\n",
    "from modules.rq_vae import RQ_VAE\n",
    "from utils.model_id_generation import generate_model_id"
   ]
  },
  {
   "cell_type": "code",
   "execution_count": 2,
   "id": "543376a1",
   "metadata": {},
   "outputs": [
    {
     "name": "stderr",
     "output_type": "stream",
     "text": [
      "wandb: Currently logged in as: hangoebl-j (justin-hangoebl-master-thesis) to https://api.wandb.ai. Use `wandb login --relogin` to force relogin\n"
     ]
    },
    {
     "data": {
      "text/html": [
       "Tracking run with wandb version 0.19.10"
      ],
      "text/plain": [
       "<IPython.core.display.HTML object>"
      ]
     },
     "metadata": {},
     "output_type": "display_data"
    },
    {
     "data": {
      "text/html": [
       "Run data is saved locally in <code>outputs\\wandb\\runs\\wandb\\run-20250610_173114-slkami44</code>"
      ],
      "text/plain": [
       "<IPython.core.display.HTML object>"
      ]
     },
     "metadata": {},
     "output_type": "display_data"
    },
    {
     "data": {
      "text/html": [
       "Syncing run <strong><a href='https://wandb.ai/justin-hangoebl-master-thesis/semantic_id_mnist/runs/slkami44' target=\"_blank\">exalted-wind-20</a></strong> to <a href='https://wandb.ai/justin-hangoebl-master-thesis/semantic_id_mnist' target=\"_blank\">Weights & Biases</a> (<a href='https://wandb.me/developer-guide' target=\"_blank\">docs</a>)<br>"
      ],
      "text/plain": [
       "<IPython.core.display.HTML object>"
      ]
     },
     "metadata": {},
     "output_type": "display_data"
    },
    {
     "data": {
      "text/html": [
       " View project at <a href='https://wandb.ai/justin-hangoebl-master-thesis/semantic_id_mnist' target=\"_blank\">https://wandb.ai/justin-hangoebl-master-thesis/semantic_id_mnist</a>"
      ],
      "text/plain": [
       "<IPython.core.display.HTML object>"
      ]
     },
     "metadata": {},
     "output_type": "display_data"
    },
    {
     "data": {
      "text/html": [
       " View run at <a href='https://wandb.ai/justin-hangoebl-master-thesis/semantic_id_mnist/runs/slkami44' target=\"_blank\">https://wandb.ai/justin-hangoebl-master-thesis/semantic_id_mnist/runs/slkami44</a>"
      ],
      "text/plain": [
       "<IPython.core.display.HTML object>"
      ]
     },
     "metadata": {},
     "output_type": "display_data"
    }
   ],
   "source": [
    "cfg = OmegaConf.load('config/config_mnist.yaml')\n",
    "device = torch.device(\"cuda\" if torch.cuda.is_available() else \"cpu\")\n",
    "wandb_init(cfg)\n",
    "\n",
    "data = load_mnist(\n",
    "    normalize_data=cfg.data.normalize_data,\n",
    "    train=True)\n",
    "\n",
    "model = RQ_VAE(\n",
    "        input_dim = data.shape[1],\n",
    "        latent_dim = cfg.model.latent_dimension,\n",
    "        hidden_dims = cfg.model.hidden_dimensions,\n",
    "        codebook_size = cfg.model.codebook_clusters,\n",
    "        codebook_kmeans_init = True,\n",
    "        codebook_sim_vq = True,\n",
    "        n_quantization_layers = cfg.model.num_codebook_layers,\n",
    "        commitment_weight = cfg.model.commitment_weight,\n",
    ")\n",
    "model.to(device)\n",
    "\n",
    "wandb.watch(model)\n",
    "\n",
    "optimizer = optim.AdamW(model.parameters(), lr=cfg.train.learning_rate, weight_decay=cfg.train.weight_decay)"
   ]
  },
  {
   "cell_type": "code",
   "execution_count": 3,
   "id": "32e20b2e",
   "metadata": {},
   "outputs": [
    {
     "name": "stderr",
     "output_type": "stream",
     "text": [
      "Training Loop: 100%|██████████| 5/5 [00:40<00:00,  8.13s/it, Epoch=4, Loss=7.65e+4, Reconstruction Loss=7.65e+4, RQ-VAE Loss=15.2, Prob Unique IDs=0.266]     \n"
     ]
    },
    {
     "data": {
      "text/html": [],
      "text/plain": [
       "<IPython.core.display.HTML object>"
      ]
     },
     "metadata": {},
     "output_type": "display_data"
    },
    {
     "data": {
      "text/html": [
       "<br>    <style><br>        .wandb-row {<br>            display: flex;<br>            flex-direction: row;<br>            flex-wrap: wrap;<br>            justify-content: flex-start;<br>            width: 100%;<br>        }<br>        .wandb-col {<br>            display: flex;<br>            flex-direction: column;<br>            flex-basis: 100%;<br>            flex: 1;<br>            padding: 10px;<br>        }<br>    </style><br><div class=\"wandb-row\"><div class=\"wandb-col\"><h3>Run history:</h3><br/><table class=\"wandb\"><tr><td>Epoch</td><td>▁▃▅▆█</td></tr><tr><td>Loss</td><td>█▂▂▂▁</td></tr><tr><td>Prob Unique IDs</td><td>▁▁▂▄█</td></tr><tr><td>RQ-VAE Loss</td><td>█▁▁▁▁</td></tr><tr><td>Reconstruction Loss</td><td>█▅▄▃▁</td></tr></table><br/></div><div class=\"wandb-col\"><h3>Run summary:</h3><br/><table class=\"wandb\"><tr><td>Epoch</td><td>4</td></tr><tr><td>Loss</td><td>76549.03913</td></tr><tr><td>Prob Unique IDs</td><td>0.26629</td></tr><tr><td>RQ-VAE Loss</td><td>15.18617</td></tr><tr><td>Reconstruction Loss</td><td>76533.85249</td></tr></table><br/></div></div>"
      ],
      "text/plain": [
       "<IPython.core.display.HTML object>"
      ]
     },
     "metadata": {},
     "output_type": "display_data"
    },
    {
     "data": {
      "text/html": [
       " View run <strong style=\"color:#cdcd00\">exalted-wind-20</strong> at: <a href='https://wandb.ai/justin-hangoebl-master-thesis/semantic_id_mnist/runs/slkami44' target=\"_blank\">https://wandb.ai/justin-hangoebl-master-thesis/semantic_id_mnist/runs/slkami44</a><br> View project at: <a href='https://wandb.ai/justin-hangoebl-master-thesis/semantic_id_mnist' target=\"_blank\">https://wandb.ai/justin-hangoebl-master-thesis/semantic_id_mnist</a><br>Synced 5 W&B file(s), 0 media file(s), 0 artifact file(s) and 0 other file(s)"
      ],
      "text/plain": [
       "<IPython.core.display.HTML object>"
      ]
     },
     "metadata": {},
     "output_type": "display_data"
    },
    {
     "data": {
      "text/html": [
       "Find logs at: <code>outputs\\wandb\\runs\\wandb\\run-20250610_173114-slkami44\\logs</code>"
      ],
      "text/plain": [
       "<IPython.core.display.HTML object>"
      ]
     },
     "metadata": {},
     "output_type": "display_data"
    }
   ],
   "source": [
    "losses = train(model, data, optimizer, cfg.train.num_epochs, device, cfg)\n",
    "\n",
    "if cfg.general.save_model:\n",
    "    model_id = generate_model_id(cfg)\n",
    "    torch.save(model.state_dict(), f\"models/{model_id}.pth\")\n",
    "    \n",
    "wandb.finish()"
   ]
  },
  {
   "cell_type": "code",
   "execution_count": 4,
   "id": "ed7849ef",
   "metadata": {},
   "outputs": [],
   "source": [
    "data_test, labels = load_mnist(\n",
    "    normalize_data=cfg.data.normalize_data,\n",
    "    train=False)\n",
    "\n",
    "sem_ids = []\n",
    "model.eval()\n",
    "\n",
    "with torch.no_grad():\n",
    "    test_loss = 0\n",
    "    for i in range(len(data_test)):\n",
    "        x = data_test[i].unsqueeze(0).to(device)\n",
    "        id = model.get_semantic_id_single(x[0])\n",
    "        sem_ids.append(id.cpu().numpy())"
   ]
  },
  {
   "cell_type": "code",
   "execution_count": 5,
   "id": "a63c7020",
   "metadata": {},
   "outputs": [],
   "source": [
    "import numpy as np\n",
    "sem_ids =np.array(sem_ids, dtype=np.float32)\n",
    "labels = [int(label.cpu()) for label in labels]"
   ]
  },
  {
   "cell_type": "code",
   "execution_count": 6,
   "id": "1ff2855f",
   "metadata": {},
   "outputs": [
    {
     "data": {
      "image/png": "[encoded data removed]",
      "text/plain": [
       "<Figure size 640x480 with 1 Axes>"
      ]
     },
     "metadata": {},
     "output_type": "display_data"
    }
   ],
   "source": [
    "import numpy as np\n",
    "import matplotlib.pyplot as plt\n",
    "from collections import defaultdict\n",
    "\n",
    "# Flatten sem_ids if it's shaped (n, 1)\n",
    "sem_ids = sem_ids.flatten()\n",
    "\n",
    "# Get all unique sem_ids and labels\n",
    "unique_sem_ids = np.unique(sem_ids)\n",
    "unique_labels = sorted(set(labels))\n",
    "label_index = {label: i for i, label in enumerate(unique_labels)}\n",
    "\n",
    "# Count occurrences of each label per sem_id\n",
    "stack_data = defaultdict(lambda: [0] * len(unique_labels))\n",
    "\n",
    "for sem_id, label in zip(sem_ids, labels):\n",
    "    stack_data[sem_id][label_index[label]] += 1\n",
    "\n",
    "# Prepare data for plotting\n",
    "x_vals = sorted(stack_data.keys())\n",
    "bar_data = np.array([stack_data[x] for x in x_vals])\n",
    "\n",
    "# Plot\n",
    "bottom = np.zeros(len(x_vals))\n",
    "for i, label in enumerate(unique_labels):\n",
    "    plt.bar(x_vals, bar_data[:, i], bottom=bottom, label=f'{label}')\n",
    "    bottom += bar_data[:, i]\n",
    "\n",
    "plt.xlabel('sem_id')\n",
    "plt.ylabel('Count')\n",
    "plt.title('Label Distribution by sem_id')\n",
    "plt.legend(title='Label')\n",
    "plt.tight_layout()\n",
    "plt.show()"
   ]
  },
  {
   "cell_type": "code",
   "execution_count": 7,
   "id": "80e2474f",
   "metadata": {},
   "outputs": [
    {
     "name": "stdout",
     "output_type": "stream",
     "text": [
      "[ 1.0488135   3.21518937 17.10276338 ... 41.94645576  4.86012661\n",
      " 31.12588665]\n"
     ]
    },
    {
     "ename": "IndexError",
     "evalue": "too many indices for array: array is 1-dimensional, but 2 were indexed",
     "output_type": "error",
     "traceback": [
      "\u001b[31m---------------------------------------------------------------------------\u001b[39m",
      "\u001b[31mIndexError\u001b[39m                                Traceback (most recent call last)",
      "\u001b[36mCell\u001b[39m\u001b[36m \u001b[39m\u001b[32mIn[7]\u001b[39m\u001b[32m, line 12\u001b[39m\n\u001b[32m      9\u001b[39m \u001b[38;5;66;03m# Plot\u001b[39;00m\n\u001b[32m     10\u001b[39m plt.figure(figsize=(\u001b[32m8\u001b[39m, \u001b[32m8\u001b[39m))\n\u001b[32m     11\u001b[39m scatter = plt.scatter(\n\u001b[32m---> \u001b[39m\u001b[32m12\u001b[39m     \u001b[43msem_ids_rand\u001b[49m\u001b[43m[\u001b[49m\u001b[43m:\u001b[49m\u001b[43m,\u001b[49m\u001b[43m \u001b[49m\u001b[32;43m0\u001b[39;49m\u001b[43m]\u001b[49m, sem_ids_rand[:, \u001b[32m1\u001b[39m],\n\u001b[32m     13\u001b[39m     c=labels,\n\u001b[32m     14\u001b[39m     cmap=\u001b[33m'\u001b[39m\u001b[33mtab10\u001b[39m\u001b[33m'\u001b[39m,\n\u001b[32m     15\u001b[39m     s=\u001b[32m10\u001b[39m,\n\u001b[32m     16\u001b[39m     alpha=\u001b[32m0.6\u001b[39m,\n\u001b[32m     17\u001b[39m     edgecolors=\u001b[33m'\u001b[39m\u001b[33mnone\u001b[39m\u001b[33m'\u001b[39m\n\u001b[32m     18\u001b[39m )\n\u001b[32m     20\u001b[39m \u001b[38;5;66;03m# Colorbar for labels\u001b[39;00m\n\u001b[32m     21\u001b[39m cbar = plt.colorbar(scatter, ticks=\u001b[38;5;28mrange\u001b[39m(\u001b[32m10\u001b[39m))\n",
      "\u001b[31mIndexError\u001b[39m: too many indices for array: array is 1-dimensional, but 2 were indexed"
     ]
    },
    {
     "data": {
      "text/plain": [
       "<Figure size 800x800 with 0 Axes>"
      ]
     },
     "metadata": {},
     "output_type": "display_data"
    },
    {
     "data": {
      "text/plain": [
       "<Figure size 800x800 with 0 Axes>"
      ]
     },
     "metadata": {},
     "output_type": "display_data"
    }
   ],
   "source": [
    "\n",
    "\n",
    "import matplotlib.pyplot as plt\n",
    "plt.figure(figsize=(8, 8))\n",
    "\n",
    "# Add small random noise (jitter) for better visualization\n",
    "np.random.seed(0)  # for reproducibility\n",
    "jitter_strength = 0.5\n",
    "sem_ids_rand = sem_ids + np.random.uniform(-jitter_strength, jitter_strength, sem_ids.shape)\n",
    "print(sem_ids_rand)\n",
    "# Plot\n",
    "plt.figure(figsize=(8, 8))\n",
    "scatter = plt.scatter(\n",
    "    sem_ids_rand[:, 0], sem_ids_rand[:, 1],\n",
    "    c=labels,\n",
    "    cmap='tab10',\n",
    "    s=10,\n",
    "    alpha=0.6,\n",
    "    edgecolors='none'\n",
    ")\n",
    "\n",
    "# Colorbar for labels\n",
    "cbar = plt.colorbar(scatter, ticks=range(10))\n",
    "cbar.set_label('Label')\n",
    "cbar.set_ticks(range(10))\n",
    "\n",
    "plt.xlim(-0.5, 9.5)\n",
    "plt.ylim(-0.5, 9.5)\n",
    "plt.xticks(range(11))\n",
    "plt.yticks(range(11))\n",
    "plt.grid(True, linestyle='--', alpha=0.3)\n",
    "plt.title(\"10x10 Scatter Plot with Label-Based Coloring and Jitter\")\n",
    "plt.xlabel(\"X\")\n",
    "plt.ylabel(\"Y\")\n",
    "plt.tight_layout()\n",
    "plt.show()"
   ]
  },
  {
   "cell_type": "code",
   "execution_count": null,
   "id": "d4a42aff",
   "metadata": {},
   "outputs": [],
   "source": []
  },
  {
   "cell_type": "code",
   "execution_count": null,
   "id": "8f258f9d",
   "metadata": {},
   "outputs": [],
   "source": []
  }
 ],
 "metadata": {
  "kernelspec": {
   "display_name": ".venv",
   "language": "python",
   "name": "python3"
  },
  "language_info": {
   "codemirror_mode": {
    "name": "ipython",
    "version": 3
   },
   "file_extension": ".py",
   "mimetype": "text/x-python",
   "name": "python",
   "nbconvert_exporter": "python",
   "pygments_lexer": "ipython3",
   "version": "3.12.4"
  }
 },
 "nbformat": 4,
 "nbformat_minor": 5
}
